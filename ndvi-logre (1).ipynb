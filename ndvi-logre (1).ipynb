{
 "cells": [
  {
   "cell_type": "code",
   "execution_count": 1,
   "id": "ff7bc12a",
   "metadata": {
    "execution": {
     "iopub.execute_input": "2025-06-10T19:24:14.909820Z",
     "iopub.status.busy": "2025-06-10T19:24:14.909479Z",
     "iopub.status.idle": "2025-06-10T19:24:19.946043Z",
     "shell.execute_reply": "2025-06-10T19:24:19.945124Z"
    },
    "papermill": {
     "duration": 5.042734,
     "end_time": "2025-06-10T19:24:19.947752",
     "exception": false,
     "start_time": "2025-06-10T19:24:14.905018",
     "status": "completed"
    },
    "tags": []
   },
   "outputs": [],
   "source": [
    "import pandas as pd\n",
    "import numpy as np\n",
    "from sklearn.linear_model import LogisticRegression\n",
    "from sklearn.impute import KNNImputer\n",
    "from sklearn.preprocessing import StandardScaler, LabelEncoder\n",
    "from sklearn.model_selection import StratifiedKFold, cross_val_score\n",
    "from sklearn.metrics import accuracy_score\n",
    "from xgboost import XGBClassifier"
   ]
  },
  {
   "cell_type": "code",
   "execution_count": 2,
   "id": "ea752e4a",
   "metadata": {
    "execution": {
     "iopub.execute_input": "2025-06-10T19:24:19.955612Z",
     "iopub.status.busy": "2025-06-10T19:24:19.955195Z",
     "iopub.status.idle": "2025-06-10T19:24:20.074958Z",
     "shell.execute_reply": "2025-06-10T19:24:20.074200Z"
    },
    "papermill": {
     "duration": 0.125555,
     "end_time": "2025-06-10T19:24:20.076790",
     "exception": false,
     "start_time": "2025-06-10T19:24:19.951235",
     "status": "completed"
    },
    "tags": []
   },
   "outputs": [],
   "source": [
    "train = pd.read_csv('/kaggle/input/hackathon/hacktrain.csv')\n",
    "test = pd.read_csv('/kaggle/input/hackathon/hacktest.csv')\n",
    "test_ids = test['ID'].copy()"
   ]
  },
  {
   "cell_type": "code",
   "execution_count": 3,
   "id": "f25c6314",
   "metadata": {
    "execution": {
     "iopub.execute_input": "2025-06-10T19:24:20.083931Z",
     "iopub.status.busy": "2025-06-10T19:24:20.083278Z",
     "iopub.status.idle": "2025-06-10T19:24:20.101263Z",
     "shell.execute_reply": "2025-06-10T19:24:20.100338Z"
    },
    "papermill": {
     "duration": 0.02354,
     "end_time": "2025-06-10T19:24:20.103184",
     "exception": false,
     "start_time": "2025-06-10T19:24:20.079644",
     "status": "completed"
    },
    "tags": []
   },
   "outputs": [],
   "source": [
    "ndvi_cols = [col for col in train.columns if '_N' in col]\n",
    "X_train_raw = train[ndvi_cols]\n",
    "y_train = train['class']\n",
    "X_test_raw = test[ndvi_cols]"
   ]
  },
  {
   "cell_type": "code",
   "execution_count": 4,
   "id": "eccb006f",
   "metadata": {
    "execution": {
     "iopub.execute_input": "2025-06-10T19:24:20.109959Z",
     "iopub.status.busy": "2025-06-10T19:24:20.109293Z",
     "iopub.status.idle": "2025-06-10T19:24:28.335278Z",
     "shell.execute_reply": "2025-06-10T19:24:28.334322Z"
    },
    "papermill": {
     "duration": 8.23108,
     "end_time": "2025-06-10T19:24:28.337017",
     "exception": false,
     "start_time": "2025-06-10T19:24:20.105937",
     "status": "completed"
    },
    "tags": []
   },
   "outputs": [],
   "source": [
    "imputer = KNNImputer(n_neighbors=3)\n",
    "X_train_imputed = pd.DataFrame(imputer.fit_transform(X_train_raw), columns=ndvi_cols)\n",
    "X_test_imputed = pd.DataFrame(imputer.transform(X_test_raw), columns=ndvi_cols)"
   ]
  },
  {
   "cell_type": "code",
   "execution_count": 5,
   "id": "925fcc76",
   "metadata": {
    "execution": {
     "iopub.execute_input": "2025-06-10T19:24:28.344589Z",
     "iopub.status.busy": "2025-06-10T19:24:28.343671Z",
     "iopub.status.idle": "2025-06-10T19:24:30.494833Z",
     "shell.execute_reply": "2025-06-10T19:24:30.493841Z"
    },
    "papermill": {
     "duration": 2.156541,
     "end_time": "2025-06-10T19:24:30.496547",
     "exception": false,
     "start_time": "2025-06-10T19:24:28.340006",
     "status": "completed"
    },
    "tags": []
   },
   "outputs": [],
   "source": [
    "def generate_features(df):\n",
    "    df_feat = df.copy()\n",
    "    df_diff = df.diff(axis=1)\n",
    "    df_feat['mean'] = df.mean(axis=1)\n",
    "    df_feat['std'] = df.std(axis=1)\n",
    "    df_feat['max'] = df.max(axis=1)\n",
    "    df_feat['min'] = df.min(axis=1)\n",
    "    df_feat['range'] = df_feat['max'] - df_feat['min']\n",
    "    df_feat['median'] = df.median(axis=1)\n",
    "    df_feat['q1'] = df.quantile(0.25, axis=1)\n",
    "    df_feat['q3'] = df.quantile(0.75, axis=1)\n",
    "    df_feat['zero_crossings'] = df_diff.apply(\n",
    "    lambda x: np.sum(np.diff(np.sign(np.nan_to_num(x))) != 0), axis=1)\n",
    "    df_feat['slope'] = df.apply(lambda x: np.polyfit(range(len(x)), x, 1)[0], axis=1)\n",
    "    df_feat['diff_mean'] = df_diff.mean(axis=1)\n",
    "    df_feat['diff_std'] = df_diff.std(axis=1)\n",
    "    return df_feat\n",
    "\n",
    "X_train_feat = generate_features(X_train_imputed)\n",
    "X_test_feat = generate_features(X_test_imputed)"
   ]
  },
  {
   "cell_type": "code",
   "execution_count": 6,
   "id": "20febcb4",
   "metadata": {
    "execution": {
     "iopub.execute_input": "2025-06-10T19:24:30.503152Z",
     "iopub.status.busy": "2025-06-10T19:24:30.502853Z",
     "iopub.status.idle": "2025-06-10T19:24:30.508752Z",
     "shell.execute_reply": "2025-06-10T19:24:30.507840Z"
    },
    "papermill": {
     "duration": 0.011222,
     "end_time": "2025-06-10T19:24:30.510560",
     "exception": false,
     "start_time": "2025-06-10T19:24:30.499338",
     "status": "completed"
    },
    "tags": []
   },
   "outputs": [],
   "source": [
    "le = LabelEncoder()\n",
    "y_train_encoded = le.fit_transform(y_train)"
   ]
  },
  {
   "cell_type": "code",
   "execution_count": 7,
   "id": "b328974a",
   "metadata": {
    "execution": {
     "iopub.execute_input": "2025-06-10T19:24:30.517222Z",
     "iopub.status.busy": "2025-06-10T19:24:30.516516Z",
     "iopub.status.idle": "2025-06-10T19:24:30.540106Z",
     "shell.execute_reply": "2025-06-10T19:24:30.539167Z"
    },
    "papermill": {
     "duration": 0.028862,
     "end_time": "2025-06-10T19:24:30.542102",
     "exception": false,
     "start_time": "2025-06-10T19:24:30.513240",
     "status": "completed"
    },
    "tags": []
   },
   "outputs": [],
   "source": [
    "scaler = StandardScaler()\n",
    "X_train_scaled = scaler.fit_transform(X_train_feat)\n",
    "X_test_scaled = scaler.transform(X_test_feat)"
   ]
  },
  {
   "cell_type": "code",
   "execution_count": 8,
   "id": "e9aaab56",
   "metadata": {
    "execution": {
     "iopub.execute_input": "2025-06-10T19:24:30.549542Z",
     "iopub.status.busy": "2025-06-10T19:24:30.548993Z",
     "iopub.status.idle": "2025-06-10T19:24:37.588107Z",
     "shell.execute_reply": "2025-06-10T19:24:37.587160Z"
    },
    "papermill": {
     "duration": 7.043956,
     "end_time": "2025-06-10T19:24:37.589532",
     "exception": false,
     "start_time": "2025-06-10T19:24:30.545576",
     "status": "completed"
    },
    "tags": []
   },
   "outputs": [
    {
     "data": {
      "text/html": [
       "<style>#sk-container-id-1 {color: black;background-color: white;}#sk-container-id-1 pre{padding: 0;}#sk-container-id-1 div.sk-toggleable {background-color: white;}#sk-container-id-1 label.sk-toggleable__label {cursor: pointer;display: block;width: 100%;margin-bottom: 0;padding: 0.3em;box-sizing: border-box;text-align: center;}#sk-container-id-1 label.sk-toggleable__label-arrow:before {content: \"▸\";float: left;margin-right: 0.25em;color: #696969;}#sk-container-id-1 label.sk-toggleable__label-arrow:hover:before {color: black;}#sk-container-id-1 div.sk-estimator:hover label.sk-toggleable__label-arrow:before {color: black;}#sk-container-id-1 div.sk-toggleable__content {max-height: 0;max-width: 0;overflow: hidden;text-align: left;background-color: #f0f8ff;}#sk-container-id-1 div.sk-toggleable__content pre {margin: 0.2em;color: black;border-radius: 0.25em;background-color: #f0f8ff;}#sk-container-id-1 input.sk-toggleable__control:checked~div.sk-toggleable__content {max-height: 200px;max-width: 100%;overflow: auto;}#sk-container-id-1 input.sk-toggleable__control:checked~label.sk-toggleable__label-arrow:before {content: \"▾\";}#sk-container-id-1 div.sk-estimator input.sk-toggleable__control:checked~label.sk-toggleable__label {background-color: #d4ebff;}#sk-container-id-1 div.sk-label input.sk-toggleable__control:checked~label.sk-toggleable__label {background-color: #d4ebff;}#sk-container-id-1 input.sk-hidden--visually {border: 0;clip: rect(1px 1px 1px 1px);clip: rect(1px, 1px, 1px, 1px);height: 1px;margin: -1px;overflow: hidden;padding: 0;position: absolute;width: 1px;}#sk-container-id-1 div.sk-estimator {font-family: monospace;background-color: #f0f8ff;border: 1px dotted black;border-radius: 0.25em;box-sizing: border-box;margin-bottom: 0.5em;}#sk-container-id-1 div.sk-estimator:hover {background-color: #d4ebff;}#sk-container-id-1 div.sk-parallel-item::after {content: \"\";width: 100%;border-bottom: 1px solid gray;flex-grow: 1;}#sk-container-id-1 div.sk-label:hover label.sk-toggleable__label {background-color: #d4ebff;}#sk-container-id-1 div.sk-serial::before {content: \"\";position: absolute;border-left: 1px solid gray;box-sizing: border-box;top: 0;bottom: 0;left: 50%;z-index: 0;}#sk-container-id-1 div.sk-serial {display: flex;flex-direction: column;align-items: center;background-color: white;padding-right: 0.2em;padding-left: 0.2em;position: relative;}#sk-container-id-1 div.sk-item {position: relative;z-index: 1;}#sk-container-id-1 div.sk-parallel {display: flex;align-items: stretch;justify-content: center;background-color: white;position: relative;}#sk-container-id-1 div.sk-item::before, #sk-container-id-1 div.sk-parallel-item::before {content: \"\";position: absolute;border-left: 1px solid gray;box-sizing: border-box;top: 0;bottom: 0;left: 50%;z-index: -1;}#sk-container-id-1 div.sk-parallel-item {display: flex;flex-direction: column;z-index: 1;position: relative;background-color: white;}#sk-container-id-1 div.sk-parallel-item:first-child::after {align-self: flex-end;width: 50%;}#sk-container-id-1 div.sk-parallel-item:last-child::after {align-self: flex-start;width: 50%;}#sk-container-id-1 div.sk-parallel-item:only-child::after {width: 0;}#sk-container-id-1 div.sk-dashed-wrapped {border: 1px dashed gray;margin: 0 0.4em 0.5em 0.4em;box-sizing: border-box;padding-bottom: 0.4em;background-color: white;}#sk-container-id-1 div.sk-label label {font-family: monospace;font-weight: bold;display: inline-block;line-height: 1.2em;}#sk-container-id-1 div.sk-label-container {text-align: center;}#sk-container-id-1 div.sk-container {/* jupyter's `normalize.less` sets `[hidden] { display: none; }` but bootstrap.min.css set `[hidden] { display: none !important; }` so we also need the `!important` here to be able to override the default hidden behavior on the sphinx rendered scikit-learn.org. See: https://github.com/scikit-learn/scikit-learn/issues/21755 */display: inline-block !important;position: relative;}#sk-container-id-1 div.sk-text-repr-fallback {display: none;}</style><div id=\"sk-container-id-1\" class=\"sk-top-container\"><div class=\"sk-text-repr-fallback\"><pre>XGBClassifier(base_score=None, booster=None, callbacks=None,\n",
       "              colsample_bylevel=None, colsample_bynode=None,\n",
       "              colsample_bytree=0.8, device=None, early_stopping_rounds=None,\n",
       "              enable_categorical=False, eval_metric=None, feature_types=None,\n",
       "              gamma=None, grow_policy=None, importance_type=None,\n",
       "              interaction_constraints=None, learning_rate=0.05, max_bin=None,\n",
       "              max_cat_threshold=None, max_cat_to_onehot=None,\n",
       "              max_delta_step=None, max_depth=6, max_leaves=None,\n",
       "              min_child_weight=None, missing=nan, monotone_constraints=None,\n",
       "              multi_strategy=None, n_estimators=300, n_jobs=None,\n",
       "              num_parallel_tree=None, objective=&#x27;multi:softprob&#x27;, ...)</pre><b>In a Jupyter environment, please rerun this cell to show the HTML representation or trust the notebook. <br />On GitHub, the HTML representation is unable to render, please try loading this page with nbviewer.org.</b></div><div class=\"sk-container\" hidden><div class=\"sk-item\"><div class=\"sk-estimator sk-toggleable\"><input class=\"sk-toggleable__control sk-hidden--visually\" id=\"sk-estimator-id-1\" type=\"checkbox\" checked><label for=\"sk-estimator-id-1\" class=\"sk-toggleable__label sk-toggleable__label-arrow\">XGBClassifier</label><div class=\"sk-toggleable__content\"><pre>XGBClassifier(base_score=None, booster=None, callbacks=None,\n",
       "              colsample_bylevel=None, colsample_bynode=None,\n",
       "              colsample_bytree=0.8, device=None, early_stopping_rounds=None,\n",
       "              enable_categorical=False, eval_metric=None, feature_types=None,\n",
       "              gamma=None, grow_policy=None, importance_type=None,\n",
       "              interaction_constraints=None, learning_rate=0.05, max_bin=None,\n",
       "              max_cat_threshold=None, max_cat_to_onehot=None,\n",
       "              max_delta_step=None, max_depth=6, max_leaves=None,\n",
       "              min_child_weight=None, missing=nan, monotone_constraints=None,\n",
       "              multi_strategy=None, n_estimators=300, n_jobs=None,\n",
       "              num_parallel_tree=None, objective=&#x27;multi:softprob&#x27;, ...)</pre></div></div></div></div></div>"
      ],
      "text/plain": [
       "XGBClassifier(base_score=None, booster=None, callbacks=None,\n",
       "              colsample_bylevel=None, colsample_bynode=None,\n",
       "              colsample_bytree=0.8, device=None, early_stopping_rounds=None,\n",
       "              enable_categorical=False, eval_metric=None, feature_types=None,\n",
       "              gamma=None, grow_policy=None, importance_type=None,\n",
       "              interaction_constraints=None, learning_rate=0.05, max_bin=None,\n",
       "              max_cat_threshold=None, max_cat_to_onehot=None,\n",
       "              max_delta_step=None, max_depth=6, max_leaves=None,\n",
       "              min_child_weight=None, missing=nan, monotone_constraints=None,\n",
       "              multi_strategy=None, n_estimators=300, n_jobs=None,\n",
       "              num_parallel_tree=None, objective='multi:softprob', ...)"
      ]
     },
     "execution_count": 8,
     "metadata": {},
     "output_type": "execute_result"
    }
   ],
   "source": [
    "xgb = XGBClassifier(\n",
    "    n_estimators=300,\n",
    "    max_depth=6,\n",
    "    learning_rate=0.05,\n",
    "    subsample=0.8,\n",
    "    colsample_bytree=0.8,\n",
    "    random_state=42\n",
    ")\n",
    "xgb.fit(X_train_scaled, y_train_encoded)"
   ]
  },
  {
   "cell_type": "code",
   "execution_count": 9,
   "id": "baf447e9",
   "metadata": {
    "execution": {
     "iopub.execute_input": "2025-06-10T19:24:37.597207Z",
     "iopub.status.busy": "2025-06-10T19:24:37.596389Z",
     "iopub.status.idle": "2025-06-10T19:25:08.750562Z",
     "shell.execute_reply": "2025-06-10T19:25:08.749931Z"
    },
    "papermill": {
     "duration": 31.162977,
     "end_time": "2025-06-10T19:25:08.755645",
     "exception": false,
     "start_time": "2025-06-10T19:24:37.592668",
     "status": "completed"
    },
    "tags": []
   },
   "outputs": [
    {
     "name": "stdout",
     "output_type": "stream",
     "text": [
      "XGBoost CV Accuracy: 0.95975\n"
     ]
    }
   ],
   "source": [
    "cv = StratifiedKFold(n_splits=5, shuffle=True, random_state=42)\n",
    "cv_scores = cross_val_score(xgb, X_train_scaled, y_train_encoded, cv=cv)\n",
    "print(\"XGBoost CV Accuracy:\", cv_scores.mean())\n"
   ]
  },
  {
   "cell_type": "code",
   "execution_count": 10,
   "id": "9e63c03e",
   "metadata": {
    "execution": {
     "iopub.execute_input": "2025-06-10T19:25:08.763410Z",
     "iopub.status.busy": "2025-06-10T19:25:08.763128Z",
     "iopub.status.idle": "2025-06-10T19:25:08.838295Z",
     "shell.execute_reply": "2025-06-10T19:25:08.837083Z"
    },
    "papermill": {
     "duration": 0.081016,
     "end_time": "2025-06-10T19:25:08.839959",
     "exception": false,
     "start_time": "2025-06-10T19:25:08.758943",
     "status": "completed"
    },
    "tags": []
   },
   "outputs": [
    {
     "name": "stdout",
     "output_type": "stream",
     "text": [
      "Submission file created successfully.\n"
     ]
    }
   ],
   "source": [
    "preds_encoded = xgb.predict(X_test_scaled)\n",
    "preds = le.inverse_transform(preds_encoded)\n",
    "\n",
    "\n",
    "submission = pd.DataFrame({'ID': test_ids, 'class': preds})\n",
    "submission.to_csv('submission.csv', index=False)\n",
    "print(\"Submission file created successfully.\")"
   ]
  }
 ],
 "metadata": {
  "kaggle": {
   "accelerator": "none",
   "dataSources": [
    {
     "databundleVersionId": 12585144,
     "sourceId": 104491,
     "sourceType": "competition"
    },
    {
     "datasetId": 7630470,
     "sourceId": 12118634,
     "sourceType": "datasetVersion"
    }
   ],
   "dockerImageVersionId": 31040,
   "isGpuEnabled": false,
   "isInternetEnabled": false,
   "language": "python",
   "sourceType": "notebook"
  },
  "kernelspec": {
   "display_name": "Python 3",
   "language": "python",
   "name": "python3"
  },
  "language_info": {
   "codemirror_mode": {
    "name": "ipython",
    "version": 3
   },
   "file_extension": ".py",
   "mimetype": "text/x-python",
   "name": "python",
   "nbconvert_exporter": "python",
   "pygments_lexer": "ipython3",
   "version": "3.11.11"
  },
  "papermill": {
   "default_parameters": {},
   "duration": 60.265496,
   "end_time": "2025-06-10T19:25:09.462088",
   "environment_variables": {},
   "exception": null,
   "input_path": "__notebook__.ipynb",
   "output_path": "__notebook__.ipynb",
   "parameters": {},
   "start_time": "2025-06-10T19:24:09.196592",
   "version": "2.6.0"
  }
 },
 "nbformat": 4,
 "nbformat_minor": 5
}
